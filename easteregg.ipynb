{
 "cells": [
  {
   "cell_type": "markdown",
   "metadata": {},
   "source": [
    "##### Easter Egg model\n",
    "A quick search for a good R2"
   ]
  },
  {
   "cell_type": "code",
   "execution_count": 9,
   "metadata": {},
   "outputs": [],
   "source": [
    "import pandas as pd\n",
    "import xgboost as xgb\n",
    "from sklearn.model_selection import train_test_split\n",
    "from sklearn.metrics import mean_squared_error, r2_score\n",
    "import category_encoders as ce\n",
    "import numpy as np"
   ]
  },
  {
   "cell_type": "code",
   "execution_count": 46,
   "metadata": {},
   "outputs": [
    {
     "name": "stderr",
     "output_type": "stream",
     "text": [
      "C:\\Users\\Tono\\AppData\\Local\\Temp\\ipykernel_4124\\3097997512.py:2: DtypeWarning: Columns (23) have mixed types. Specify dtype option on import or set low_memory=False.\n",
      "  df = pd.read_csv('AmazonDataSales.csv')\n"
     ]
    }
   ],
   "source": [
    "# Load dataset\n",
    "df = pd.read_csv('AmazonDataSales.csv')\n",
    "# MAke column names lowercase\n",
    "df.columns = df.columns.str.lower()\n",
    "# Drop rows with 'courier status' = \"cancelled\"\n",
    "df = df[df['courier status'] != 'cancelled']\n",
    "# Drop rows with 'status' = \"cancelled\"\n",
    "df = df[df['status'] != 'cancelled']\n",
    "#Drop rows with 'qty' = 0\n",
    "df = df[df['qty'] != 0]\n",
    "#Drop rows with 'amount' = 0\n",
    "df = df[df['amount'] != 0]\n",
    "# Drop all columns except 'amount', 'asin', 'sku', size, style\n",
    "df = df[['amount', 'size', 'qty', 'category','style']] # What adding style does!\n",
    "#drop all rows with missing values\n",
    "df.dropna(inplace=True)\n",
    "# Select all columns except 'amount' as feature columns\n",
    "feature_columns = df.columns.drop('amount')\n",
    "# binary encode the feature columns\n",
    "encoder = ce.BinaryEncoder(cols=feature_columns)\n",
    "df_encoded = encoder.fit_transform(df[feature_columns])\n",
    "X = df_encoded  # Features\n",
    "y = df['amount']  # Target"
   ]
  },
  {
   "cell_type": "code",
   "execution_count": 47,
   "metadata": {},
   "outputs": [
    {
     "name": "stdout",
     "output_type": "stream",
     "text": [
      "R2/MSE:(0.8759745011201574, 95.85191502041279)\n"
     ]
    }
   ],
   "source": [
    "X_train, X_test, y_train, y_test = train_test_split(X, y, test_size=0.2, random_state=42)\n",
    "\n",
    "# Function to train and evaluate a model\n",
    "def train_evaluate_model(model, X_train, y_train, X_test, y_test):\n",
    "    # Train the model\n",
    "    model.fit(X_train, y_train)\n",
    "    \n",
    "    # Predict on the test set\n",
    "    y_pred = model.predict(X_test)\n",
    "    \n",
    "    # Calculate r2 score and rsme\n",
    "    r2 = r2_score(y_test, y_pred)\n",
    "    rmse = np.sqrt(mean_squared_error(y_test, y_pred))\n",
    "\n",
    "    \n",
    "    return r2, rmse\n",
    "\n",
    "#define model\n",
    "regressor = xgb.XGBRegressor(objective='reg:squarederror')\n",
    "#train model\n",
    "regressor_train = train_evaluate_model(regressor, X_train, y_train, X_test, y_test)\n",
    "print(f\"R2/MSE:{regressor_train}\")\n"
   ]
  },
  {
   "cell_type": "code",
   "execution_count": 46,
   "metadata": {},
   "outputs": [
    {
     "name": "stdout",
     "output_type": "stream",
     "text": [
      "Number of feature columns: 41\n"
     ]
    }
   ],
   "source": [
    "#Count the number of feature columns\n",
    "num_feature_columns = len(df_encoded.columns)\n",
    "print(f\"Number of feature columns: {num_feature_columns}\")"
   ]
  }
 ],
 "metadata": {
  "kernelspec": {
   "display_name": "MLBIA_comp_pytorch",
   "language": "python",
   "name": "python3"
  },
  "language_info": {
   "codemirror_mode": {
    "name": "ipython",
    "version": 3
   },
   "file_extension": ".py",
   "mimetype": "text/x-python",
   "name": "python",
   "nbconvert_exporter": "python",
   "pygments_lexer": "ipython3",
   "version": "3.11.7"
  }
 },
 "nbformat": 4,
 "nbformat_minor": 2
}
