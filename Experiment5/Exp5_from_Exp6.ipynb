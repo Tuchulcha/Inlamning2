{
 "cells": [
  {
   "cell_type": "code",
   "execution_count": 1,
   "metadata": {},
   "outputs": [],
   "source": [
    "import pandas as pd\n",
    "import xgboost as xgb\n",
    "import torch\n",
    "from sklearn.model_selection import train_test_split\n",
    "from sklearn.metrics import mean_squared_error, r2_score\n",
    "from sklearn.preprocessing import StandardScaler\n",
    "from torch.utils.data import TensorDataset, DataLoader\n",
    "import numpy as np\n",
    "import torch\n",
    "import torch.nn as nn\n",
    "import torch.optim as optim\n",
    "from torch.utils.tensorboard import SummaryWriter # For logging values within training loop\n",
    "import torch.onnx\n",
    "import matplotlib.pyplot as plt\n",
    "from scipy import stats"
   ]
  },
  {
   "cell_type": "code",
   "execution_count": 2,
   "metadata": {},
   "outputs": [],
   "source": [
    "# Load dataset\n",
    "df = pd.read_csv('AmazonDataSales_v2.csv', low_memory=False)\n",
    "# Drop all columns except 'amount', 'category', 'size', 'quantity'\n",
    "df = df[['amount', 'category', 'size', 'qty']]\n",
    "\n",
    "# One-hot encode the 'category', 'size', and 'qty' columns\n",
    "# Select all columns except 'amount' as feature columns\n",
    "feature_columns = df.columns.drop('amount')\n",
    "# One-hot encode the feature columns\n",
    "df_encoded = pd.get_dummies(df, columns=feature_columns)\n",
    "\n",
    "# Assuming 'df' contains your dataset\n",
    "X = df_encoded.drop('amount', axis=1)  # Features\n",
    "y = df['amount']  # Target\n",
    "\n",
    "#Network stopped converging, the only things I did was add hooks and remove this line\n",
    "X_train, X_test, y_train, y_test = train_test_split(X, y, test_size=0.2, random_state=42)"
   ]
  },
  {
   "cell_type": "code",
   "execution_count": 3,
   "metadata": {},
   "outputs": [],
   "source": [
    "# Convert to numpy arrays (required for PyTorch tensors)\n",
    "X_np = np.array(X, dtype=np.float32)\n",
    "y_np = np.array(y, dtype=np.float32)\n",
    "\n",
    "# Convert to PyTorch tensors\n",
    "X_tensor = torch.tensor(X_np)\n",
    "y_tensor = torch.tensor(y_np)\n",
    "\n",
    "# Split data into train and test sets\n",
    "X_train, X_test, y_train, y_test = train_test_split(X_tensor, y_tensor, test_size=0.2, random_state=42)\n",
    "\n",
    "# Create TensorDatasets\n",
    "train_dataset = TensorDataset(X_train, y_train)\n",
    "test_dataset = TensorDataset(X_test, y_test)\n",
    "\n",
    "# Create DataLoaders\n",
    "train_loader = DataLoader(train_dataset, batch_size=200, shuffle=True)\n",
    "test_loader = DataLoader(test_dataset, batch_size=200, shuffle=False)"
   ]
  },
  {
   "cell_type": "code",
   "execution_count": 4,
   "metadata": {},
   "outputs": [
    {
     "name": "stdout",
     "output_type": "stream",
     "text": [
      "Using device: cuda\n"
     ]
    }
   ],
   "source": [
    "# Check for GPU availability\n",
    "device = torch.device(\"cuda\" if torch.cuda.is_available() else \"cpu\")\n",
    "print(f\"Using device: {device}\")"
   ]
  },
  {
   "cell_type": "code",
   "execution_count": 5,
   "metadata": {},
   "outputs": [],
   "source": [
    "# Logging during training\n",
    "writer = SummaryWriter()"
   ]
  },
  {
   "cell_type": "code",
   "execution_count": 6,
   "metadata": {},
   "outputs": [],
   "source": [
    "# Function to register hooks for monitoring activations\n",
    "def register_activation_hooks(model, writer):\n",
    "    def hook_fn(module, input, output):\n",
    "        writer.add_histogram(f\"{module.__class__.__name__}_activations\", output)\n",
    "\n",
    "    for layer in model.modules():\n",
    "        if isinstance(layer, torch.nn.modules.Linear):\n",
    "            # Use a closure to capture the current layer\n",
    "            layer.register_forward_hook(lambda module, input, output, layer=layer: hook_fn(layer, input, output))\n",
    "\n",
    "\n",
    "# Function to register hooks for monitoring gradients\n",
    "def register_gradient_hooks(model, writer):\n",
    "    for name, parameter in model.named_parameters():\n",
    "        def hook(grad, name=name):  # Capture current value of name\n",
    "            writer.add_histogram(f\"{name}_gradients\", grad)\n",
    "        parameter.register_hook(hook)\n",
    "\n",
    "\n",
    "# Function to log weights, needs no fancy hooks\n",
    "def log_weights(model, writer, epoch):\n",
    "    for name, param in model.named_parameters():\n",
    "        writer.add_histogram(f\"{name}_weights\", param, epoch)\n"
   ]
  },
  {
   "cell_type": "code",
   "execution_count": 7,
   "metadata": {},
   "outputs": [],
   "source": [
    "class FeedForwardRegressor(nn.Module):\n",
    "    def __init__(self, input_size, hidden_size1, hidden_size2):\n",
    "        super(FeedForwardRegressor, self).__init__()\n",
    "        self.fc1 = nn.Linear(input_size, hidden_size1)\n",
    "        self.relu1 = nn.ReLU()\n",
    "        self.fc2 = nn.Linear(hidden_size1, hidden_size2)\n",
    "        self.relu2 = nn.ReLU()\n",
    "        self.fc3 = nn.Linear(hidden_size2, 1)  # Output layer for regression\n",
    "\n",
    "    def forward(self, x):\n",
    "        x = self.relu1(self.fc1(x))\n",
    "        x = self.relu2(self.fc2(x))\n",
    "        x = self.fc3(x)\n",
    "        return x\n",
    "\n",
    "# Model instantiation and move to device\n",
    "input_size = X_train.shape[1]\n",
    "hidden_size1 = 2\n",
    "hidden_size2 = 2\n",
    "model = FeedForwardRegressor(input_size, hidden_size1, hidden_size2).to(device)\n",
    "\n",
    "# Loss and optimizer\n",
    "criterion = nn.MSELoss()\n",
    "optimizer = optim.Adam(model.parameters(), lr=0.001)\n",
    "\n"
   ]
  },
  {
   "cell_type": "code",
   "execution_count": 8,
   "metadata": {},
   "outputs": [],
   "source": [
    "#Training function with logging\n",
    "\n",
    "def train_model(model, train_loader, criterion, optimizer, writer, num_epochs=10):\n",
    "    model.train()\n",
    "    register_activation_hooks(model, writer)  # Register activation hooks // register_forward_hook\n",
    "    register_gradient_hooks(model, writer)     # Register gradient hooks\n",
    "\n",
    "\n",
    "    for epoch in range(num_epochs):\n",
    "        total_loss = 0\n",
    "        for batch_idx, (inputs, targets) in enumerate(train_loader):\n",
    "            # Move data to the device\n",
    "            inputs, targets = inputs.to(device), targets.to(device)\n",
    "\n",
    "            optimizer.zero_grad()\n",
    "            outputs = model(inputs)\n",
    "            loss = criterion(outputs, targets.unsqueeze(1))\n",
    "            loss.backward()\n",
    "            optimizer.step()\n",
    "            total_loss += loss.item()\n",
    "\n",
    "            # Log weights and gradients for the first batch in each epoch\n",
    "            if batch_idx == 0:\n",
    "                for name, param in model.named_parameters():\n",
    "                    writer.add_histogram(f\"{name}_weights\", param, epoch) #parameter_hook\n",
    "                    writer.add_histogram(f\"{name}_grads\", param.grad, epoch) #?_hook\n",
    "\n",
    "            # Log weights at the end of each epoch\n",
    "            log_weights(model, writer, epoch)\n",
    "\n",
    "        # Log loss at each epoch\n",
    "        writer.add_scalar('Loss/train', total_loss/len(train_loader), epoch)\n",
    "        print(f'Epoch {epoch+1}/{num_epochs}, Loss: {total_loss/len(train_loader)}')"
   ]
  },
  {
   "cell_type": "code",
   "execution_count": 9,
   "metadata": {},
   "outputs": [],
   "source": [
    "# Evaluation function\n",
    "\n",
    "def evaluate_model(model, test_loader):\n",
    "    model.eval()\n",
    "    targets_list = []\n",
    "    outputs_list = []\n",
    "    with torch.no_grad():\n",
    "        total_loss = 0\n",
    "        for inputs, targets in test_loader:\n",
    "            # Move data to the device\n",
    "            inputs, targets = inputs.to(device), targets.to(device)\n",
    "\n",
    "            outputs = model(inputs)\n",
    "            loss = criterion(outputs, targets.unsqueeze(1))  # Add an extra dimension to targets\n",
    "\n",
    "            total_loss += loss.item()\n",
    "            targets_list.append(targets.cpu())\n",
    "            outputs_list.append(outputs.cpu())\n",
    "        \n",
    "        # Concatenate all batches\n",
    "        all_targets = torch.cat(targets_list, dim=0)\n",
    "        all_outputs = torch.cat(outputs_list, dim=0)\n",
    "\n",
    "        # Calculate R-squared score\n",
    "        r2 = r2_score(all_targets.numpy(), all_outputs.numpy())\n",
    "        \n",
    "        print(f'Test Loss: {total_loss/len(test_loader)}')\n",
    "        print(f'R-squared: {r2}')"
   ]
  },
  {
   "cell_type": "code",
   "execution_count": 10,
   "metadata": {},
   "outputs": [
    {
     "name": "stdout",
     "output_type": "stream",
     "text": [
      "Epoch 1/50, Loss: 451506.14722664544\n",
      "Epoch 2/50, Loss: 445848.8184049894\n",
      "Epoch 3/50, Loss: 413662.6376061571\n",
      "Epoch 4/50, Loss: 346259.8779856688\n",
      "Epoch 5/50, Loss: 257315.6859739915\n",
      "Epoch 6/50, Loss: 169328.47828755307\n",
      "Epoch 7/50, Loss: 104600.48279093683\n",
      "Epoch 8/50, Loss: 70309.2998938429\n",
      "Epoch 9/50, Loss: 56732.71293623938\n",
      "Epoch 10/50, Loss: 51238.70656681263\n",
      "Epoch 11/50, Loss: 47972.44153065287\n",
      "Epoch 12/50, Loss: 45426.18652136412\n",
      "Epoch 13/50, Loss: 43257.94373673036\n",
      "Epoch 14/50, Loss: 41379.18443554273\n",
      "Epoch 15/50, Loss: 39804.26276373408\n",
      "Epoch 16/50, Loss: 38483.77255009289\n",
      "Epoch 17/50, Loss: 37482.1471976181\n",
      "Epoch 18/50, Loss: 36696.601603967625\n",
      "Epoch 19/50, Loss: 36147.696104531584\n",
      "Epoch 20/50, Loss: 35847.92718285562\n",
      "Epoch 21/50, Loss: 35622.790497279726\n",
      "Epoch 22/50, Loss: 35487.01972200106\n",
      "Epoch 23/50, Loss: 35392.13826134554\n",
      "Epoch 24/50, Loss: 35329.9703299164\n",
      "Epoch 25/50, Loss: 35246.95300889066\n",
      "Epoch 26/50, Loss: 35193.15229813562\n",
      "Epoch 27/50, Loss: 35166.1226736664\n",
      "Epoch 28/50, Loss: 35125.87388452097\n",
      "Epoch 29/50, Loss: 35037.860735138005\n",
      "Epoch 30/50, Loss: 34993.232077693734\n",
      "Epoch 31/50, Loss: 35002.608383923834\n",
      "Epoch 32/50, Loss: 34933.41799363057\n",
      "Epoch 33/50, Loss: 34909.95355211651\n",
      "Epoch 34/50, Loss: 34865.60828440154\n",
      "Epoch 35/50, Loss: 34847.48113223195\n",
      "Epoch 36/50, Loss: 34810.21379876592\n",
      "Epoch 37/50, Loss: 34773.100086252656\n",
      "Epoch 38/50, Loss: 34787.58608678344\n",
      "Epoch 39/50, Loss: 34765.785114782375\n",
      "Epoch 40/50, Loss: 34725.642192476116\n",
      "Epoch 41/50, Loss: 34728.819226048305\n",
      "Epoch 42/50, Loss: 34717.907241076166\n",
      "Epoch 43/50, Loss: 34702.856733512475\n",
      "Epoch 44/50, Loss: 34731.16375149284\n",
      "Epoch 45/50, Loss: 34666.28997478769\n",
      "Epoch 46/50, Loss: 34659.438329352444\n",
      "Epoch 47/50, Loss: 34661.32608479299\n",
      "Epoch 48/50, Loss: 34658.84932739517\n",
      "Epoch 49/50, Loss: 34672.939494592625\n",
      "Epoch 50/50, Loss: 34643.19615843949\n"
     ]
    }
   ],
   "source": [
    "# Run training\n",
    "train_model(model, train_loader, criterion, optimizer, writer, num_epochs=50)"
   ]
  },
  {
   "cell_type": "code",
   "execution_count": 11,
   "metadata": {},
   "outputs": [
    {
     "name": "stdout",
     "output_type": "stream",
     "text": [
      "Test Loss: 35294.09788797669\n",
      "R-squared: 0.42071745239018354\n"
     ]
    }
   ],
   "source": [
    "# and evaluation\n",
    "evaluate_model(model, test_loader) "
   ]
  },
  {
   "cell_type": "code",
   "execution_count": 12,
   "metadata": {},
   "outputs": [
    {
     "name": "stdout",
     "output_type": "stream",
     "text": [
      "24\n"
     ]
    }
   ],
   "source": [
    "# How many features or inputs do the model receive \n",
    "input_size = X_train.shape[1]\n",
    "print(input_size)"
   ]
  },
  {
   "cell_type": "code",
   "execution_count": 13,
   "metadata": {},
   "outputs": [
    {
     "name": "stdout",
     "output_type": "stream",
     "text": [
      "----------------------------------------------------------------\n",
      "        Layer (type)               Output Shape         Param #\n",
      "================================================================\n",
      "            Linear-1                    [-1, 2]              50\n",
      "              ReLU-2                    [-1, 2]               0\n",
      "            Linear-3                    [-1, 2]               6\n",
      "              ReLU-4                    [-1, 2]               0\n",
      "            Linear-5                    [-1, 1]               3\n",
      "================================================================\n",
      "Total params: 59\n",
      "Trainable params: 59\n",
      "Non-trainable params: 0\n",
      "----------------------------------------------------------------\n",
      "Input size (MB): 0.00\n",
      "Forward/backward pass size (MB): 0.00\n",
      "Params size (MB): 0.00\n",
      "Estimated Total Size (MB): 0.00\n",
      "----------------------------------------------------------------\n"
     ]
    }
   ],
   "source": [
    "from torchsummary import summary\n",
    "summary(model, input_size=(input_size,)) # The , after input_size needs to be there"
   ]
  },
  {
   "cell_type": "code",
   "execution_count": 14,
   "metadata": {},
   "outputs": [
    {
     "name": "stdout",
     "output_type": "stream",
     "text": [
      "Model saved in ONNX format at exp6_model.onnx\n"
     ]
    }
   ],
   "source": [
    "# Assuming model is already trained and available\n",
    "\n",
    "# Create a dummy input tensor matching the input size (batch_size, input_features)\n",
    "# It's important for the dummy input to have the same type (float) and device (CPU/GPU) as the real inputs\n",
    "dummy_input = torch.randn(1, input_size, device=device)\n",
    "\n",
    "# Set the model to evaluation mode\n",
    "model.eval()\n",
    "\n",
    "# Export the model to ONNX format\n",
    "onnx_model_path = \"exp6_model.onnx\"  # Specify the path to save the ONNX model\n",
    "torch.onnx.export(model, dummy_input, onnx_model_path, \n",
    "                  export_params=True, \n",
    "                  opset_version=10, \n",
    "                  do_constant_folding=True, \n",
    "                  input_names = ['input'], \n",
    "                  output_names = ['output'])\n",
    "\n",
    "print(f\"Model saved in ONNX format at {onnx_model_path}\")\n"
   ]
  },
  {
   "cell_type": "code",
   "execution_count": 15,
   "metadata": {},
   "outputs": [],
   "source": [
    "#Function for plotting Residuals\n",
    "residual_outliers =[]\n",
    "\n",
    "def evaluate_model_and_plot_residuals(model, test_loader, df_original):\n",
    "    model.eval()\n",
    "    targets_list = []\n",
    "    outputs_list = []\n",
    "    with torch.no_grad():\n",
    "        for inputs, targets in test_loader:\n",
    "            inputs, targets = inputs.to(device), targets.to(device)\n",
    "            outputs = model(inputs)\n",
    "            targets_list.append(targets.cpu())\n",
    "            outputs_list.append(outputs.cpu())\n",
    "\n",
    "    all_targets = torch.cat(targets_list, dim=0).numpy()\n",
    "    all_outputs = torch.cat(outputs_list, dim=0).numpy()\n",
    "\n",
    "    # Calculate R-squared score\n",
    "    r2 = r2_score(all_targets, all_outputs)\n",
    "    print(f'R-squared: {r2}')\n",
    "\n",
    "    # Calculate residuals\n",
    "    residuals = all_targets - all_outputs.squeeze()\n",
    "\n",
    "    # Plot residuals\n",
    "    plt.scatter(all_outputs, residuals)\n",
    "    plt.xlabel('Predicted Values')\n",
    "    plt.ylabel('Residuals')\n",
    "    plt.axhline(y=0, color='r', linestyle='--')\n",
    "    plt.title('Residuals vs. Predicted Values')\n",
    "    plt.show()\n",
    "    # Assuming residuals is a numpy array of your model's residuals\n",
    "    residuals = all_targets - all_outputs.squeeze()\n",
    "\n",
    "    # Durbin-Watson Test\n",
    "    #durbin_watson = stats.durbin_watson(residuals)\n",
    "    #print(f'Durbin-Watson: {durbin_watson}')\n",
    "\n",
    "    # Shapiro-Wilk Test for normality\n",
    "    shapiro_test = stats.shapiro(residuals)\n",
    "    print(f'Shapiro-Wilk Test: Statistic={shapiro_test[0]}, p-value={shapiro_test[1]}')\n",
    "\n",
    "    # Identify outliers based on residuals\n",
    "    threshold = np.percentile(np.abs(residuals), 95)  # You can adjust this threshold\n",
    "    outlier_indices = np.where(np.abs(residuals) > threshold)[0]\n",
    "    outliers_info = df_original.iloc[outlier_indices]\n",
    "\n",
    "    # Here you can print out the outliers, or return them to analyze further\n",
    "    print(\"Outliers based on residuals:\")\n",
    "    print(outliers_info)\n",
    "\n",
    "    return outliers_info, residuals, all_targets, all_outputs\n"
   ]
  },
  {
   "cell_type": "code",
   "execution_count": 16,
   "metadata": {},
   "outputs": [
    {
     "name": "stdout",
     "output_type": "stream",
     "text": [
      "R-squared: 0.42071745239018354\n"
     ]
    },
    {
     "data": {
      "image/png": "[encoded data removed]",
      "text/plain": [
       "<Figure size 640x480 with 1 Axes>"
      ]
     },
     "metadata": {},
     "output_type": "display_data"
    },
    {
     "name": "stdout",
     "output_type": "stream",
     "text": [
      "Shapiro-Wilk Test: Statistic=0.9402041703262329, p-value=4.0783499214157056e-69\n",
      "Outliers based on residuals:\n",
      "       amount category size  qty\n",
      "1       406.0    kurta  3xl    1\n",
      "89      696.0      set    m    1\n",
      "97      788.0      set    l    1\n",
      "119     790.0      set    s    1\n",
      "159     568.0      set   xs    1\n",
      "...       ...      ...  ...  ...\n",
      "23403   357.0    kurta    m    1\n",
      "23450   459.0    kurta    m    1\n",
      "23453   295.0    kurta    l    1\n",
      "23458     0.0      set  3xl    1\n",
      "23469   635.0    kurta    l    1\n",
      "\n",
      "[1176 rows x 4 columns]\n"
     ]
    },
    {
     "name": "stderr",
     "output_type": "stream",
     "text": [
      "C:\\Users\\Tono\\AppData\\Local\\Temp\\ipykernel_12280\\1318030946.py:40: UserWarning: scipy.stats.shapiro: For N > 5000, computed p-value may not be accurate. Current N is 23516.\n",
      "  shapiro_test = stats.shapiro(residuals)\n"
     ]
    }
   ],
   "source": [
    "outliers_info_df, residuals, all_targets, all_outputs = evaluate_model_and_plot_residuals(model, test_loader, df)"
   ]
  },
  {
   "cell_type": "code",
   "execution_count": null,
   "metadata": {},
   "outputs": [],
   "source": []
  }
 ],
 "metadata": {
  "kernelspec": {
   "display_name": "MLBIA_comp_pytorch",
   "language": "python",
   "name": "python3"
  },
  "language_info": {
   "codemirror_mode": {
    "name": "ipython",
    "version": 3
   },
   "file_extension": ".py",
   "mimetype": "text/x-python",
   "name": "python",
   "nbconvert_exporter": "python",
   "pygments_lexer": "ipython3",
   "version": "3.11.7"
  }
 },
 "nbformat": 4,
 "nbformat_minor": 2
}
