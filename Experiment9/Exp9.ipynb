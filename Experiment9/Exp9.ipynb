{
 "cells": [
  {
   "cell_type": "code",
   "execution_count": 24,
   "metadata": {},
   "outputs": [],
   "source": [
    "import pandas as pd\n",
    "import xgboost as xgb\n",
    "import torch\n",
    "from sklearn.model_selection import train_test_split\n",
    "from sklearn.metrics import mean_squared_error, r2_score\n",
    "from sklearn.preprocessing import StandardScaler\n",
    "from torch.utils.data import TensorDataset, DataLoader\n",
    "import numpy as np\n",
    "import torch\n",
    "import torch.nn as nn\n",
    "import torch.optim as optim\n",
    "from torch.utils.tensorboard import SummaryWriter # For logging values within training loop\n",
    "import torch.onnx"
   ]
  },
  {
   "cell_type": "code",
   "execution_count": 16,
   "metadata": {},
   "outputs": [],
   "source": [
    "# Load dataset\n",
    "df = pd.read_csv('AmazonDataSales_v2.csv', low_memory=False)\n",
    "# Drop all columns except 'amount', 'category', 'size', 'quantity'\n",
    "df = df[['amount', 'category', 'size', 'qty']]\n",
    "\n",
    "# One-hot encode the 'category', 'size', and 'qty' columns\n",
    "# Select all columns except 'amount' as feature columns\n",
    "feature_columns = df.columns.drop('amount')\n",
    "# One-hot encode the feature columns\n",
    "df_encoded = pd.get_dummies(df, columns=feature_columns)\n",
    "\n",
    "# Assuming 'df' contains your dataset\n",
    "X = df_encoded.drop('amount', axis=1)  # Features\n",
    "y = df['amount']  # Target\n",
    "\n",
    "#Network stopped converging, the only things I did was add hooks and remove this line\n",
    "# X_train, X_test, y_train, y_test = train_test_split(X, y, test_size=0.2, random_state=42)"
   ]
  },
  {
   "cell_type": "code",
   "execution_count": 17,
   "metadata": {},
   "outputs": [],
   "source": [
    "# Convert to numpy arrays (required for PyTorch tensors)\n",
    "X_np = np.array(X, dtype=np.float32)\n",
    "y_np = np.array(y, dtype=np.float32)\n",
    "\n",
    "# Convert to PyTorch tensors\n",
    "X_tensor = torch.tensor(X_np)\n",
    "y_tensor = torch.tensor(y_np)\n",
    "\n",
    "# Split data into train and test sets\n",
    "X_train, X_test, y_train, y_test = train_test_split(X_tensor, y_tensor, test_size=0.2, random_state=42)\n",
    "\n",
    "# Create TensorDatasets\n",
    "train_dataset = TensorDataset(X_train, y_train)\n",
    "test_dataset = TensorDataset(X_test, y_test)\n",
    "\n",
    "# Create DataLoaders\n",
    "train_loader = DataLoader(train_dataset, batch_size=200, shuffle=True)\n",
    "test_loader = DataLoader(test_dataset, batch_size=200, shuffle=False)"
   ]
  },
  {
   "cell_type": "code",
   "execution_count": 4,
   "metadata": {},
   "outputs": [
    {
     "name": "stdout",
     "output_type": "stream",
     "text": [
      "Using device: cuda\n"
     ]
    }
   ],
   "source": [
    "# Check for GPU availability\n",
    "device = torch.device(\"cuda\" if torch.cuda.is_available() else \"cpu\")\n",
    "print(f\"Using device: {device}\")"
   ]
  },
  {
   "cell_type": "code",
   "execution_count": 5,
   "metadata": {},
   "outputs": [],
   "source": [
    "# Logging during training\n",
    "writer = SummaryWriter()"
   ]
  },
  {
   "cell_type": "code",
   "execution_count": 6,
   "metadata": {},
   "outputs": [],
   "source": [
    "# Function to register hooks for monitoring activations\n",
    "def register_activation_hooks(model, writer):\n",
    "    def hook_fn(module, input, output):\n",
    "        writer.add_histogram(f\"{module.__class__.__name__}_activations\", output)\n",
    "\n",
    "    for layer in model.modules():\n",
    "        if isinstance(layer, torch.nn.modules.Linear):\n",
    "            # Use a closure to capture the current layer\n",
    "            layer.register_forward_hook(lambda module, input, output, layer=layer: hook_fn(layer, input, output))\n",
    "\n",
    "\n",
    "# Function to register hooks for monitoring gradients\n",
    "def register_gradient_hooks(model, writer):\n",
    "    for name, parameter in model.named_parameters():\n",
    "        def hook(grad, name=name):  # Capture current value of name\n",
    "            writer.add_histogram(f\"{name}_gradients\", grad)\n",
    "        parameter.register_hook(hook)\n",
    "\n",
    "\n",
    "# Function to log weights, needs no fancy hooks\n",
    "def log_weights(model, writer, epoch):\n",
    "    for name, param in model.named_parameters():\n",
    "        writer.add_histogram(f\"{name}_weights\", param, epoch)\n"
   ]
  },
  {
   "cell_type": "code",
   "execution_count": 7,
   "metadata": {},
   "outputs": [],
   "source": [
    "class FeedForwardRegressor(nn.Module):\n",
    "    def __init__(self, input_size, hidden_size1, hidden_size2):\n",
    "        super(FeedForwardRegressor, self).__init__()\n",
    "        self.fc1 = nn.Linear(input_size, hidden_size1)\n",
    "        self.relu1 = nn.ReLU()\n",
    "        self.fc2 = nn.Linear(hidden_size1, hidden_size2)\n",
    "        self.relu2 = nn.ReLU()\n",
    "        self.fc3 = nn.Linear(hidden_size2, 1)  # Output layer for regression\n",
    "\n",
    "    def forward(self, x):\n",
    "        x = self.relu1(self.fc1(x))\n",
    "        x = self.relu2(self.fc2(x))\n",
    "        x = self.fc3(x)\n",
    "        return x\n",
    "\n",
    "# Model instantiation and move to device\n",
    "input_size = X_train.shape[1]\n",
    "hidden_size1 = 2\n",
    "hidden_size2 = 2\n",
    "model = FeedForwardRegressor(input_size, hidden_size1, hidden_size2).to(device)\n",
    "\n",
    "# Loss and optimizer\n",
    "criterion = nn.MSELoss()\n",
    "optimizer = optim.Adam(model.parameters(), lr=0.001)\n",
    "\n"
   ]
  },
  {
   "cell_type": "code",
   "execution_count": 8,
   "metadata": {},
   "outputs": [],
   "source": [
    "#Training function with logging\n",
    "\n",
    "def train_model(model, train_loader, criterion, optimizer, writer, num_epochs=10):\n",
    "    model.train()\n",
    "    register_activation_hooks(model, writer)  # Register activation hooks // register_forward_hook\n",
    "    register_gradient_hooks(model, writer)     # Register gradient hooks\n",
    "\n",
    "\n",
    "    for epoch in range(num_epochs):\n",
    "        total_loss = 0\n",
    "        for batch_idx, (inputs, targets) in enumerate(train_loader):\n",
    "            # Move data to the device\n",
    "            inputs, targets = inputs.to(device), targets.to(device)\n",
    "\n",
    "            optimizer.zero_grad()\n",
    "            outputs = model(inputs)\n",
    "            loss = criterion(outputs, targets.unsqueeze(1))\n",
    "            loss.backward()\n",
    "            optimizer.step()\n",
    "            total_loss += loss.item()\n",
    "\n",
    "            # Log weights and gradients for the first batch in each epoch\n",
    "            if batch_idx == 0:\n",
    "                for name, param in model.named_parameters():\n",
    "                    writer.add_histogram(f\"{name}_weights\", param, epoch) #parameter_hook\n",
    "                    writer.add_histogram(f\"{name}_grads\", param.grad, epoch) #?_hook\n",
    "\n",
    "            # Log weights at the end of each epoch\n",
    "            log_weights(model, writer, epoch)\n",
    "\n",
    "        # Log loss at each epoch\n",
    "        writer.add_scalar('Loss/train', total_loss/len(train_loader), epoch)\n",
    "        print(f'Epoch {epoch+1}/{num_epochs}, Loss: {total_loss/len(train_loader)}')"
   ]
  },
  {
   "cell_type": "code",
   "execution_count": 9,
   "metadata": {},
   "outputs": [],
   "source": [
    "# Evaluation function\n",
    "\n",
    "def evaluate_model(model, test_loader):\n",
    "    model.eval()\n",
    "    targets_list = []\n",
    "    outputs_list = []\n",
    "    with torch.no_grad():\n",
    "        total_loss = 0\n",
    "        for inputs, targets in test_loader:\n",
    "            # Move data to the device\n",
    "            inputs, targets = inputs.to(device), targets.to(device)\n",
    "\n",
    "            outputs = model(inputs)\n",
    "            loss = criterion(outputs, targets.unsqueeze(1))  # Add an extra dimension to targets\n",
    "\n",
    "            total_loss += loss.item()\n",
    "            targets_list.append(targets.cpu())\n",
    "            outputs_list.append(outputs.cpu())\n",
    "        \n",
    "        # Concatenate all batches\n",
    "        all_targets = torch.cat(targets_list, dim=0)\n",
    "        all_outputs = torch.cat(outputs_list, dim=0)\n",
    "\n",
    "        # Calculate R-squared score\n",
    "        r2 = r2_score(all_targets.numpy(), all_outputs.numpy())\n",
    "        \n",
    "        print(f'Test Loss: {total_loss/len(test_loader)}')\n",
    "        print(f'R-squared: {r2}')"
   ]
  },
  {
   "cell_type": "code",
   "execution_count": 19,
   "metadata": {},
   "outputs": [
    {
     "name": "stdout",
     "output_type": "stream",
     "text": [
      "Epoch 1/5, Loss: 34759.19476098062\n",
      "Epoch 2/5, Loss: 34743.20893876062\n",
      "Epoch 3/5, Loss: 34717.05542147691\n",
      "Epoch 4/5, Loss: 34703.838889994695\n",
      "Epoch 5/5, Loss: 34677.00085423302\n"
     ]
    }
   ],
   "source": [
    "# Run training\n",
    "train_model(model, train_loader, criterion, optimizer, writer, num_epochs=5)"
   ]
  },
  {
   "cell_type": "code",
   "execution_count": 26,
   "metadata": {},
   "outputs": [
    {
     "name": "stdout",
     "output_type": "stream",
     "text": [
      "Test Loss: 35306.33782441737\n",
      "R-squared: 0.4205197008902992\n"
     ]
    }
   ],
   "source": [
    "# and evaluation\n",
    "evaluate_model(model, test_loader) "
   ]
  },
  {
   "cell_type": "code",
   "execution_count": 12,
   "metadata": {},
   "outputs": [
    {
     "name": "stdout",
     "output_type": "stream",
     "text": [
      "24\n"
     ]
    }
   ],
   "source": [
    "# How many features or inputs do the model receive \n",
    "input_size = X_train.shape[1]\n",
    "print(input_size)"
   ]
  },
  {
   "cell_type": "code",
   "execution_count": 13,
   "metadata": {},
   "outputs": [
    {
     "name": "stdout",
     "output_type": "stream",
     "text": [
      "----------------------------------------------------------------\n",
      "        Layer (type)               Output Shape         Param #\n",
      "================================================================\n",
      "            Linear-1                    [-1, 2]              50\n",
      "              ReLU-2                    [-1, 2]               0\n",
      "            Linear-3                    [-1, 2]               6\n",
      "              ReLU-4                    [-1, 2]               0\n",
      "            Linear-5                    [-1, 1]               3\n",
      "================================================================\n",
      "Total params: 59\n",
      "Trainable params: 59\n",
      "Non-trainable params: 0\n",
      "----------------------------------------------------------------\n",
      "Input size (MB): 0.00\n",
      "Forward/backward pass size (MB): 0.00\n",
      "Params size (MB): 0.00\n",
      "Estimated Total Size (MB): 0.00\n",
      "----------------------------------------------------------------\n"
     ]
    }
   ],
   "source": [
    "from torchsummary import summary\n",
    "summary(model, input_size=(input_size,)) # The , after input_size needs to be there"
   ]
  },
  {
   "cell_type": "code",
   "execution_count": 25,
   "metadata": {},
   "outputs": [
    {
     "name": "stdout",
     "output_type": "stream",
     "text": [
      "Model saved in ONNX format at exp6_model.onnx\n"
     ]
    }
   ],
   "source": [
    "# Assuming model is already trained and available\n",
    "\n",
    "# Create a dummy input tensor matching the input size (batch_size, input_features)\n",
    "# It's important for the dummy input to have the same type (float) and device (CPU/GPU) as the real inputs\n",
    "dummy_input = torch.randn(1, input_size, device=device)\n",
    "\n",
    "# Set the model to evaluation mode\n",
    "model.eval()\n",
    "\n",
    "# Export the model to ONNX format\n",
    "onnx_model_path = \"exp6_model.onnx\"  # Specify the path to save the ONNX model\n",
    "torch.onnx.export(model, dummy_input, onnx_model_path, \n",
    "                  export_params=True, \n",
    "                  opset_version=10, \n",
    "                  do_constant_folding=True, \n",
    "                  input_names = ['input'], \n",
    "                  output_names = ['output'])\n",
    "\n",
    "print(f\"Model saved in ONNX format at {onnx_model_path}\")\n"
   ]
  },
  {
   "cell_type": "code",
   "execution_count": 29,
   "metadata": {},
   "outputs": [],
   "source": [
    "# Save the model as a state dictionary\n",
    "torch.save(model.state_dict(), 'model_state_dict_.pt')"
   ]
  },
  {
   "cell_type": "code",
   "execution_count": null,
   "metadata": {},
   "outputs": [],
   "source": [
    "# Use the saved model in the form of a state dictionary\n",
    "\n",
    "# Define model parameters\n",
    "input_size = X_train.shape[1]  # Make sure X_train.shape[1] is accessible here\n",
    "hidden_size1 = 2\n",
    "hidden_size2 = 2\n",
    "\n",
    "# Initialize the model\n",
    "model = FeedForwardRegressor(input_size, hidden_size1, hidden_size2)  # Replace with your model class and parameters\n",
    "\n",
    "model.load_state_dict(torch.load('model_state_dict.pth'))"
   ]
  },
  {
   "cell_type": "code",
   "execution_count": null,
   "metadata": {},
   "outputs": [],
   "source": [
    "# Running the saved model\n",
    "\n",
    "# Assuming model is correctly loaded and moved to the appropriate device\n",
    "model.eval()  # Set the model to evaluation mode\n",
    "\n",
    "# No need to manually specify input_data since you're using DataLoader\n",
    "test_targets_list = []\n",
    "test_outputs_list = []\n",
    "\n",
    "with torch.no_grad():  # Disable gradient computation\n",
    "    for inputs, targets in test_loader:\n",
    "        inputs = inputs.to(device)  # Ensure inputs are on the correct device\n",
    "        targets = targets.to(device)  # Ensure targets are on the correct device\n",
    "        outputs = model(inputs)\n",
    "        test_targets_list.append(targets)\n",
    "        test_outputs_list.append(outputs)\n",
    "\n",
    "# Concatenate all the outputs and targets from the test set\n",
    "all_test_targets = torch.cat(test_targets_list, dim=0).cpu().numpy()\n",
    "all_test_outputs = torch.cat(test_outputs_list, dim=0).cpu().numpy()\n",
    "\n",
    "# Now, you can calculate metrics such as MSE or R2 for the test set\n",
    "test_mse = mean_squared_error(all_test_targets, all_test_outputs)\n",
    "test_r2 = r2_score(all_test_targets, all_test_outputs)\n",
    "\n",
    "print(f\"Test MSE: {test_mse}\")\n",
    "print(f\"Test R-squared: {test_r2}\")\n"
   ]
  }
 ],
 "metadata": {
  "kernelspec": {
   "display_name": "MLBIA_comp_pytorch",
   "language": "python",
   "name": "python3"
  },
  "language_info": {
   "codemirror_mode": {
    "name": "ipython",
    "version": 3
   },
   "file_extension": ".py",
   "mimetype": "text/x-python",
   "name": "python",
   "nbconvert_exporter": "python",
   "pygments_lexer": "ipython3",
   "version": "3.11.7"
  }
 },
 "nbformat": 4,
 "nbformat_minor": 2
}
