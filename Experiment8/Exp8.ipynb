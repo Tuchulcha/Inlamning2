{
 "cells": [
  {
   "cell_type": "code",
   "execution_count": 1,
   "metadata": {},
   "outputs": [],
   "source": [
    "import pandas as pd\n",
    "import xgboost as xgb\n",
    "import torch\n",
    "from sklearn.model_selection import train_test_split\n",
    "from sklearn.metrics import mean_squared_error, r2_score\n",
    "from sklearn.preprocessing import StandardScaler\n",
    "from torch.utils.data import TensorDataset, DataLoader\n",
    "import numpy as np\n",
    "import torch\n",
    "import torch.nn as nn\n",
    "import torch.optim as optim\n",
    "from torch.utils.tensorboard import SummaryWriter # For logging values within training loop\n",
    "import torch.onnx"
   ]
  },
  {
   "cell_type": "code",
   "execution_count": 2,
   "metadata": {},
   "outputs": [
    {
     "data": {
      "text/plain": [
       "Index(['amount', 'category_blouse', 'category_bottom', 'category_dupatta',\n",
       "       'category_ethnic dress', 'category_kurta', 'category_saree',\n",
       "       'category_set', 'category_top', 'category_western dress', 'size_3xl',\n",
       "       'size_4xl', 'size_5xl', 'size_6xl', 'size_free', 'size_l', 'size_m',\n",
       "       'size_s', 'size_xl', 'size_xs', 'size_xxl', 'qty_0', 'qty_1', 'qty_2',\n",
       "       'qty_3'],\n",
       "      dtype='object')"
      ]
     },
     "execution_count": 2,
     "metadata": {},
     "output_type": "execute_result"
    }
   ],
   "source": [
    "# Load dataset\n",
    "df = pd.read_csv('AmazonDataSales_v2.csv', low_memory=False)\n",
    "# Drop all columns except 'amount', 'category', 'size', 'quantity'\n",
    "df = df[['amount', 'category', 'size', 'qty']]\n",
    "\n",
    "# One-hot encode the 'category', 'size', and 'qty' columns\n",
    "# Select all columns except 'amount' as feature columns\n",
    "feature_columns = df.columns.drop('amount')\n",
    "# One-hot encode the feature columns\n",
    "df_encoded = pd.get_dummies(df, columns=feature_columns)\n",
    "df_encoded.columns"
   ]
  },
  {
   "cell_type": "code",
   "execution_count": 3,
   "metadata": {},
   "outputs": [],
   "source": [
    "#Dropping the one-hot columns XS, 6xl, 4xl, 5xl, free, ethnic dress, bottom, saree, blouse, dupatta, all qty except 1 would help the model?   \n",
    "df_encoded.drop(['size_xs', 'size_4xl', 'size_5xl', 'size_6xl', 'size_free', 'qty_0', 'qty_2',\n",
    "       'qty_3', 'category_blouse', 'category_dupatta','category_ethnic dress', 'category_saree', 'category_bottom',], axis=1, inplace=True)"
   ]
  },
  {
   "cell_type": "code",
   "execution_count": 4,
   "metadata": {},
   "outputs": [],
   "source": [
    "# Assuming 'df' contains your dataset\n",
    "X = df_encoded.drop('amount', axis=1)  # Features\n",
    "y = df['amount']  # Target"
   ]
  },
  {
   "cell_type": "code",
   "execution_count": 14,
   "metadata": {},
   "outputs": [
    {
     "name": "stdout",
     "output_type": "stream",
     "text": [
      "R2/MSE:(0.39710457938755983, 191.61742156422437)\n"
     ]
    }
   ],
   "source": [
    "X_train, X_test, y_train, y_test = train_test_split(X, y, test_size=0.2, random_state=42)\n",
    "\n",
    "# Function to train and evaluate a model\n",
    "def train_evaluate_model(model, X_train, y_train, X_test, y_test):\n",
    "    # Train the model\n",
    "    model.fit(X_train, y_train)\n",
    "    \n",
    "    # Predict on the test set\n",
    "    y_pred = model.predict(X_test)\n",
    "    \n",
    "    # Calculate r2 score and rsme\n",
    "    r2 = r2_score(y_test, y_pred)\n",
    "    rmse = np.sqrt(mean_squared_error(y_test, y_pred))\n",
    "\n",
    "    \n",
    "    return r2, rmse\n",
    "\n",
    "#define model\n",
    "regressor = xgb.XGBRegressor(objective='reg:squarederror')\n",
    "#train model\n",
    "regressor_train = train_evaluate_model(regressor, X_train, y_train, X_test, y_test)\n",
    "print(f\"R2/MSE:{regressor_train}\")\n"
   ]
  },
  {
   "cell_type": "markdown",
   "metadata": {},
   "source": [
    "Conclusion: Removing the low frequency one-hot feature columns did not help the R2 value"
   ]
  }
 ],
 "metadata": {
  "kernelspec": {
   "display_name": "MLBIA_comp_pytorch",
   "language": "python",
   "name": "python3"
  },
  "language_info": {
   "codemirror_mode": {
    "name": "ipython",
    "version": 3
   },
   "file_extension": ".py",
   "mimetype": "text/x-python",
   "name": "python",
   "nbconvert_exporter": "python",
   "pygments_lexer": "ipython3",
   "version": "3.11.7"
  }
 },
 "nbformat": 4,
 "nbformat_minor": 2
}
